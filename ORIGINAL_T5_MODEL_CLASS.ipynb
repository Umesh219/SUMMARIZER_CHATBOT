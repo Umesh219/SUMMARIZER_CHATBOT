{
 "cells": [
  {
   "cell_type": "code",
   "execution_count": 1,
   "metadata": {},
   "outputs": [
    {
     "name": "stderr",
     "output_type": "stream",
     "text": [
      "c:\\Users\\umesh.malviya1\\AppData\\Local\\Programs\\Python\\Python312\\Lib\\site-packages\\tqdm\\auto.py:21: TqdmWarning: IProgress not found. Please update jupyter and ipywidgets. See https://ipywidgets.readthedocs.io/en/stable/user_install.html\n",
      "  from .autonotebook import tqdm as notebook_tqdm\n"
     ]
    }
   ],
   "source": [
    "from transformers import AutoTokenizer, AutoModelForSeq2SeqLM\n"
   ]
  },
  {
   "cell_type": "code",
   "execution_count": 3,
   "metadata": {},
   "outputs": [],
   "source": [
    "class T5DialogueSummarizer:\n",
    "\n",
    "  def __init__(self, model_name=\"t5-base\"):\n",
    "    self.tokenizer = AutoTokenizer.from_pretrained(model_name)\n",
    "    self.model = AutoModelForSeq2SeqLM.from_pretrained(model_name)\n",
    "\n",
    "  def summarize_dialogue(self, dialogue):\n",
    "    dialogue_text = \"\\n\".join(dialogue)\n",
    "    inputs = self.tokenizer(dialogue_text, return_tensors=\"pt\")\n",
    "    summary_ids = self.model.generate(**inputs)\n",
    "    summary_text = self.tokenizer.decode(summary_ids[0], skip_special_tokens=True)\n",
    "    return summary_text"
   ]
  }
 ],
 "metadata": {
  "kernelspec": {
   "display_name": "Python 3",
   "language": "python",
   "name": "python3"
  },
  "language_info": {
   "codemirror_mode": {
    "name": "ipython",
    "version": 3
   },
   "file_extension": ".py",
   "mimetype": "text/x-python",
   "name": "python",
   "nbconvert_exporter": "python",
   "pygments_lexer": "ipython3",
   "version": "3.12.2"
  }
 },
 "nbformat": 4,
 "nbformat_minor": 2
}
